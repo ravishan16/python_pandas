{
 "cells": [
  {
   "cell_type": "code",
   "execution_count": 1,
   "metadata": {
    "collapsed": true
   },
   "outputs": [],
   "source": [
    "import sys,json,requests,os\n",
    "import pandas as pd\n",
    "import time\n",
    "from IPython.display import display\n",
    "reload(sys)\n",
    "sys.setdefaultencoding('utf8')\n",
    "pd.set_option('display.notebook_repr_html', True)"
   ]
  },
  {
   "cell_type": "markdown",
   "metadata": {},
   "source": [
    "## Data Set pulled from Public Data and Stored in data folder\n",
    "https://data.illinois.gov/Public-Health/IDPH-Hospital-Directory/wsms-teqm"
   ]
  },
  {
   "cell_type": "code",
   "execution_count": 2,
   "metadata": {
    "collapsed": false
   },
   "outputs": [],
   "source": [
    "root_dir = os.getcwd()\n",
    "#display(root_dir)\n",
    "data_dir = os.path.join(root_dir,'data')\n",
    "#display(data_dir)\n",
    "csv_file_name = 'IDPH_Hospital_Directory.csv'\n",
    "tsv_file_name = 'IDPH_Hospital_Directory.tsv'\n",
    "xlsx_file_name = 'IDPH_Hospital_Directory.xlsx'\n",
    "json_file_path = 'https://data.illinois.gov/resource/pksj-gzqc.json'"
   ]
  },
  {
   "cell_type": "markdown",
   "metadata": {},
   "source": [
    "### Read CSV as Pandas DataFrame and Display 5 rows"
   ]
  },
  {
   "cell_type": "code",
   "execution_count": 3,
   "metadata": {
    "collapsed": false
   },
   "outputs": [
    {
     "data": {
      "text/html": [
       "<div>\n",
       "<table border=\"1\" class=\"dataframe\">\n",
       "  <thead>\n",
       "    <tr style=\"text-align: right;\">\n",
       "      <th></th>\n",
       "      <th>Hospital Name</th>\n",
       "      <th>Type of Hospital</th>\n",
       "      <th>Address</th>\n",
       "      <th>City</th>\n",
       "      <th>County</th>\n",
       "      <th>Zip</th>\n",
       "      <th>Phone</th>\n",
       "      <th>License #</th>\n",
       "      <th>License Expiration Date</th>\n",
       "    </tr>\n",
       "  </thead>\n",
       "  <tbody>\n",
       "    <tr>\n",
       "      <th>0</th>\n",
       "      <td>Abraham Lincoln Hospital</td>\n",
       "      <td>Critical Access Hospital</td>\n",
       "      <td>200 Stahllhut Drive</td>\n",
       "      <td>Lincoln</td>\n",
       "      <td>Logan</td>\n",
       "      <td>62656</td>\n",
       "      <td>(217) 732-2161</td>\n",
       "      <td>0005728</td>\n",
       "      <td>06/30/17</td>\n",
       "    </tr>\n",
       "    <tr>\n",
       "      <th>1</th>\n",
       "      <td>Adventist Bolingbrook Hospital</td>\n",
       "      <td>General Hospital</td>\n",
       "      <td>500 Remington Boulevard</td>\n",
       "      <td>Bolingbrook</td>\n",
       "      <td>Will</td>\n",
       "      <td>60440</td>\n",
       "      <td>(630) 312-5000</td>\n",
       "      <td>0005496</td>\n",
       "      <td>01/10/18</td>\n",
       "    </tr>\n",
       "    <tr>\n",
       "      <th>2</th>\n",
       "      <td>Adventist GlenOaks Hospital</td>\n",
       "      <td>General Hospital</td>\n",
       "      <td>701 Winthrop Avenue</td>\n",
       "      <td>Glendale Heights</td>\n",
       "      <td>Du Page</td>\n",
       "      <td>60139</td>\n",
       "      <td>(630) 545-8000</td>\n",
       "      <td>0003814</td>\n",
       "      <td>06/30/17</td>\n",
       "    </tr>\n",
       "    <tr>\n",
       "      <th>3</th>\n",
       "      <td>Adventist Midwest Health - DBA Adventist LaGra...</td>\n",
       "      <td>General Hospital</td>\n",
       "      <td>5101 South Willow Springs Road</td>\n",
       "      <td>LaGrange</td>\n",
       "      <td>Cook</td>\n",
       "      <td>60525</td>\n",
       "      <td>(708) 245-9000</td>\n",
       "      <td>0005967</td>\n",
       "      <td>01/31/18</td>\n",
       "    </tr>\n",
       "    <tr>\n",
       "      <th>4</th>\n",
       "      <td>Adventist Midwest Health - DBA Adventist Hinsd...</td>\n",
       "      <td>General Hospital</td>\n",
       "      <td>120 North Oak Street</td>\n",
       "      <td>Hinsdale</td>\n",
       "      <td>Du Page</td>\n",
       "      <td>60521</td>\n",
       "      <td>(630) 856-9000</td>\n",
       "      <td>0000976</td>\n",
       "      <td>12/31/17</td>\n",
       "    </tr>\n",
       "  </tbody>\n",
       "</table>\n",
       "</div>"
      ],
      "text/plain": [
       "                                       Hospital Name  \\\n",
       "0                           Abraham Lincoln Hospital   \n",
       "1                     Adventist Bolingbrook Hospital   \n",
       "2                        Adventist GlenOaks Hospital   \n",
       "3  Adventist Midwest Health - DBA Adventist LaGra...   \n",
       "4  Adventist Midwest Health - DBA Adventist Hinsd...   \n",
       "\n",
       "           Type of Hospital                         Address              City  \\\n",
       "0  Critical Access Hospital             200 Stahllhut Drive           Lincoln   \n",
       "1          General Hospital         500 Remington Boulevard       Bolingbrook   \n",
       "2          General Hospital             701 Winthrop Avenue  Glendale Heights   \n",
       "3          General Hospital  5101 South Willow Springs Road          LaGrange   \n",
       "4          General Hospital            120 North Oak Street          Hinsdale   \n",
       "\n",
       "    County    Zip           Phone License # License Expiration Date  \n",
       "0    Logan  62656  (217) 732-2161   0005728                06/30/17  \n",
       "1     Will  60440  (630) 312-5000   0005496                01/10/18  \n",
       "2  Du Page  60139  (630) 545-8000   0003814                06/30/17  \n",
       "3     Cook  60525  (708) 245-9000   0005967                01/31/18  \n",
       "4  Du Page  60521  (630) 856-9000   0000976                12/31/17  "
      ]
     },
     "metadata": {},
     "output_type": "display_data"
    }
   ],
   "source": [
    "csv_file_path = os.path.join(data_dir,csv_file_name)\n",
    "#display(csv_file_path)\n",
    "csv_df = pd.read_csv(csv_file_path, sep=',', delimiter=None, header='infer', index_col=False,skip_blank_lines =True)\n",
    "display(csv_df[:5])"
   ]
  },
  {
   "cell_type": "markdown",
   "metadata": {},
   "source": [
    "### Read TSV as Pandas DataFrame and Display 5 rows"
   ]
  },
  {
   "cell_type": "code",
   "execution_count": 4,
   "metadata": {
    "collapsed": false
   },
   "outputs": [
    {
     "data": {
      "text/html": [
       "<div>\n",
       "<table border=\"1\" class=\"dataframe\">\n",
       "  <thead>\n",
       "    <tr style=\"text-align: right;\">\n",
       "      <th></th>\n",
       "      <th>﻿Hospital Name</th>\n",
       "      <th>Type of Hospital</th>\n",
       "      <th>Address</th>\n",
       "      <th>City</th>\n",
       "      <th>County</th>\n",
       "      <th>Zip</th>\n",
       "      <th>Phone</th>\n",
       "      <th>License #</th>\n",
       "      <th>License Expiration Date</th>\n",
       "    </tr>\n",
       "  </thead>\n",
       "  <tbody>\n",
       "    <tr>\n",
       "      <th>0</th>\n",
       "      <td>Abraham Lincoln Hospital</td>\n",
       "      <td>Critical Access Hospital</td>\n",
       "      <td>200 Stahllhut Drive</td>\n",
       "      <td>Lincoln</td>\n",
       "      <td>Logan</td>\n",
       "      <td>62656</td>\n",
       "      <td>(217) 732-2161</td>\n",
       "      <td>0005728</td>\n",
       "      <td>06/30/17</td>\n",
       "    </tr>\n",
       "    <tr>\n",
       "      <th>1</th>\n",
       "      <td>Adventist Bolingbrook Hospital</td>\n",
       "      <td>General Hospital</td>\n",
       "      <td>500 Remington Boulevard</td>\n",
       "      <td>Bolingbrook</td>\n",
       "      <td>Will</td>\n",
       "      <td>60440</td>\n",
       "      <td>(630) 312-5000</td>\n",
       "      <td>0005496</td>\n",
       "      <td>01/10/18</td>\n",
       "    </tr>\n",
       "    <tr>\n",
       "      <th>2</th>\n",
       "      <td>Adventist GlenOaks Hospital</td>\n",
       "      <td>General Hospital</td>\n",
       "      <td>701 Winthrop Avenue</td>\n",
       "      <td>Glendale Heights</td>\n",
       "      <td>Du Page</td>\n",
       "      <td>60139</td>\n",
       "      <td>(630) 545-8000</td>\n",
       "      <td>0003814</td>\n",
       "      <td>06/30/17</td>\n",
       "    </tr>\n",
       "    <tr>\n",
       "      <th>3</th>\n",
       "      <td>Adventist Midwest Health - DBA Adventist LaGra...</td>\n",
       "      <td>General Hospital</td>\n",
       "      <td>5101 South Willow Springs Road</td>\n",
       "      <td>LaGrange</td>\n",
       "      <td>Cook</td>\n",
       "      <td>60525</td>\n",
       "      <td>(708) 245-9000</td>\n",
       "      <td>0005967</td>\n",
       "      <td>01/31/18</td>\n",
       "    </tr>\n",
       "    <tr>\n",
       "      <th>4</th>\n",
       "      <td>Adventist Midwest Health - DBA Adventist Hinsd...</td>\n",
       "      <td>General Hospital</td>\n",
       "      <td>120 North Oak Street</td>\n",
       "      <td>Hinsdale</td>\n",
       "      <td>Du Page</td>\n",
       "      <td>60521</td>\n",
       "      <td>(630) 856-9000</td>\n",
       "      <td>0000976</td>\n",
       "      <td>12/31/17</td>\n",
       "    </tr>\n",
       "  </tbody>\n",
       "</table>\n",
       "</div>"
      ],
      "text/plain": [
       "                                      ∩╗┐Hospital Name  \\\n",
       "0                           Abraham Lincoln Hospital   \n",
       "1                     Adventist Bolingbrook Hospital   \n",
       "2                        Adventist GlenOaks Hospital   \n",
       "3  Adventist Midwest Health - DBA Adventist LaGra...   \n",
       "4  Adventist Midwest Health - DBA Adventist Hinsd...   \n",
       "\n",
       "           Type of Hospital                         Address              City  \\\n",
       "0  Critical Access Hospital             200 Stahllhut Drive           Lincoln   \n",
       "1          General Hospital         500 Remington Boulevard       Bolingbrook   \n",
       "2          General Hospital             701 Winthrop Avenue  Glendale Heights   \n",
       "3          General Hospital  5101 South Willow Springs Road          LaGrange   \n",
       "4          General Hospital            120 North Oak Street          Hinsdale   \n",
       "\n",
       "    County    Zip           Phone License # License Expiration Date  \n",
       "0    Logan  62656  (217) 732-2161   0005728                06/30/17  \n",
       "1     Will  60440  (630) 312-5000   0005496                01/10/18  \n",
       "2  Du Page  60139  (630) 545-8000   0003814                06/30/17  \n",
       "3     Cook  60525  (708) 245-9000   0005967                01/31/18  \n",
       "4  Du Page  60521  (630) 856-9000   0000976                12/31/17  "
      ]
     },
     "metadata": {},
     "output_type": "display_data"
    }
   ],
   "source": [
    "tsv_file_path = os.path.join(data_dir,tsv_file_name)\n",
    "#display(tsv_file_path)\n",
    "tsv_df = pd.read_csv(tsv_file_path, sep='\\t', delimiter=None, header='infer', index_col=False,skip_blank_lines =True)\n",
    "display(tsv_df[:5])"
   ]
  },
  {
   "cell_type": "markdown",
   "metadata": {},
   "source": [
    "### Read Json as Pandas DataFrame and Display 5 rows\n",
    "#### Example below orientation of json is records\n",
    "http://pandas.pydata.org/pandas-docs/stable/generated/pandas.read_json.html\n",
    "\n",
    "#### Also here the json data is read from  [IDPH Hospital Directory API](https://data.illinois.gov/resource/pksj-gzqc.json)"
   ]
  },
  {
   "cell_type": "code",
   "execution_count": 5,
   "metadata": {
    "collapsed": false
   },
   "outputs": [
    {
     "data": {
      "text/plain": [
       "'https://data.illinois.gov/resource/pksj-gzqc.json'"
      ]
     },
     "metadata": {},
     "output_type": "display_data"
    },
    {
     "data": {
      "text/html": [
       "<div>\n",
       "<table border=\"1\" class=\"dataframe\">\n",
       "  <thead>\n",
       "    <tr style=\"text-align: right;\">\n",
       "      <th></th>\n",
       "      <th>address</th>\n",
       "      <th>city</th>\n",
       "      <th>county</th>\n",
       "      <th>hospital_name</th>\n",
       "      <th>license_</th>\n",
       "      <th>license_expiration_date</th>\n",
       "      <th>phone</th>\n",
       "      <th>type_of_hospital</th>\n",
       "      <th>zip</th>\n",
       "    </tr>\n",
       "  </thead>\n",
       "  <tbody>\n",
       "    <tr>\n",
       "      <th>0</th>\n",
       "      <td>20733 North Broad Street</td>\n",
       "      <td>Carlinville</td>\n",
       "      <td>Macoupin</td>\n",
       "      <td>Carlinville Area Hospital Association</td>\n",
       "      <td>0005686</td>\n",
       "      <td>07/30/17</td>\n",
       "      <td>(217) 854-3141</td>\n",
       "      <td>Critical Access Hospital</td>\n",
       "      <td>62626</td>\n",
       "    </tr>\n",
       "    <tr>\n",
       "      <th>1</th>\n",
       "      <td>365 East North Avenue</td>\n",
       "      <td>Northlake</td>\n",
       "      <td>Cook</td>\n",
       "      <td>THC Chicago, Inc. - DBA Kindred Hospital - Nor...</td>\n",
       "      <td>0004952</td>\n",
       "      <td>07/24/17</td>\n",
       "      <td>(708) 345-8100</td>\n",
       "      <td>Long Term Acute Care Hospital</td>\n",
       "      <td>60164</td>\n",
       "    </tr>\n",
       "    <tr>\n",
       "      <th>2</th>\n",
       "      <td>5730 West Roosevelt Road</td>\n",
       "      <td>Chicago</td>\n",
       "      <td>Cook</td>\n",
       "      <td>UHS Hartgrove Hospital</td>\n",
       "      <td>0005454</td>\n",
       "      <td>07/16/17</td>\n",
       "      <td>(773) 413-1700</td>\n",
       "      <td>Psychiatric Hospital</td>\n",
       "      <td>60644</td>\n",
       "    </tr>\n",
       "    <tr>\n",
       "      <th>3</th>\n",
       "      <td>225 Edward Street</td>\n",
       "      <td>Sycamore</td>\n",
       "      <td>De Kalb</td>\n",
       "      <td>THC Chicago, Inc. - DBA Kindred Hospital - Syc...</td>\n",
       "      <td>0004945</td>\n",
       "      <td>07/24/17</td>\n",
       "      <td>(815) 895-2144</td>\n",
       "      <td>Long Term Acute Care Hospital</td>\n",
       "      <td>60178</td>\n",
       "    </tr>\n",
       "    <tr>\n",
       "      <th>4</th>\n",
       "      <td>4201 Medical Center Drive</td>\n",
       "      <td>McHenry</td>\n",
       "      <td>Mc Henry</td>\n",
       "      <td>Centegra Northern Illinois Medical Center - DB...</td>\n",
       "      <td>0003889</td>\n",
       "      <td>06/30/17</td>\n",
       "      <td>(815) 344-5000</td>\n",
       "      <td>General Hospital</td>\n",
       "      <td>60050</td>\n",
       "    </tr>\n",
       "  </tbody>\n",
       "</table>\n",
       "</div>"
      ],
      "text/plain": [
       "                     address         city    county  \\\n",
       "0   20733 North Broad Street  Carlinville  Macoupin   \n",
       "1      365 East North Avenue    Northlake      Cook   \n",
       "2   5730 West Roosevelt Road      Chicago      Cook   \n",
       "3          225 Edward Street     Sycamore   De Kalb   \n",
       "4  4201 Medical Center Drive      McHenry  Mc Henry   \n",
       "\n",
       "                                       hospital_name license_  \\\n",
       "0              Carlinville Area Hospital Association  0005686   \n",
       "1  THC Chicago, Inc. - DBA Kindred Hospital - Nor...  0004952   \n",
       "2                             UHS Hartgrove Hospital  0005454   \n",
       "3  THC Chicago, Inc. - DBA Kindred Hospital - Syc...  0004945   \n",
       "4  Centegra Northern Illinois Medical Center - DB...  0003889   \n",
       "\n",
       "  license_expiration_date           phone               type_of_hospital  \\\n",
       "0                07/30/17  (217) 854-3141       Critical Access Hospital   \n",
       "1                07/24/17  (708) 345-8100  Long Term Acute Care Hospital   \n",
       "2                07/16/17  (773) 413-1700           Psychiatric Hospital   \n",
       "3                07/24/17  (815) 895-2144  Long Term Acute Care Hospital   \n",
       "4                06/30/17  (815) 344-5000               General Hospital   \n",
       "\n",
       "     zip  \n",
       "0  62626  \n",
       "1  60164  \n",
       "2  60644  \n",
       "3  60178  \n",
       "4  60050  "
      ]
     },
     "metadata": {},
     "output_type": "display_data"
    }
   ],
   "source": [
    "display(json_file_path)\n",
    "json_df = pd.read_json(json_file_path,orient='records')\n",
    "display(json_df[:5])"
   ]
  },
  {
   "cell_type": "markdown",
   "metadata": {},
   "source": [
    "### Read Excel (xlsx) file as Pandas DataFrame and Display 5 rows\n",
    "#### Data read from sheet ``IDPH_Hospital_Directory``"
   ]
  },
  {
   "cell_type": "code",
   "execution_count": 6,
   "metadata": {
    "collapsed": false
   },
   "outputs": [
    {
     "data": {
      "text/html": [
       "<div>\n",
       "<table border=\"1\" class=\"dataframe\">\n",
       "  <thead>\n",
       "    <tr style=\"text-align: right;\">\n",
       "      <th></th>\n",
       "      <th>Hospital Name</th>\n",
       "      <th>Type of Hospital</th>\n",
       "      <th>Address</th>\n",
       "      <th>City</th>\n",
       "      <th>County</th>\n",
       "      <th>Zip</th>\n",
       "      <th>Phone</th>\n",
       "      <th>License #</th>\n",
       "      <th>License Expiration Date</th>\n",
       "    </tr>\n",
       "  </thead>\n",
       "  <tbody>\n",
       "    <tr>\n",
       "      <th>0</th>\n",
       "      <td>Abraham Lincoln Hospital</td>\n",
       "      <td>Critical Access Hospital</td>\n",
       "      <td>200 Stahllhut Drive</td>\n",
       "      <td>Lincoln</td>\n",
       "      <td>Logan</td>\n",
       "      <td>62656</td>\n",
       "      <td>(217) 732-2161</td>\n",
       "      <td>5728</td>\n",
       "      <td>2017-06-30</td>\n",
       "    </tr>\n",
       "    <tr>\n",
       "      <th>1</th>\n",
       "      <td>Adventist Bolingbrook Hospital</td>\n",
       "      <td>General Hospital</td>\n",
       "      <td>500 Remington Boulevard</td>\n",
       "      <td>Bolingbrook</td>\n",
       "      <td>Will</td>\n",
       "      <td>60440</td>\n",
       "      <td>(630) 312-5000</td>\n",
       "      <td>5496</td>\n",
       "      <td>2018-01-10</td>\n",
       "    </tr>\n",
       "    <tr>\n",
       "      <th>2</th>\n",
       "      <td>Adventist GlenOaks Hospital</td>\n",
       "      <td>General Hospital</td>\n",
       "      <td>701 Winthrop Avenue</td>\n",
       "      <td>Glendale Heights</td>\n",
       "      <td>Du Page</td>\n",
       "      <td>60139</td>\n",
       "      <td>(630) 545-8000</td>\n",
       "      <td>3814</td>\n",
       "      <td>2017-06-30</td>\n",
       "    </tr>\n",
       "    <tr>\n",
       "      <th>3</th>\n",
       "      <td>Adventist Midwest Health - DBA Adventist LaGra...</td>\n",
       "      <td>General Hospital</td>\n",
       "      <td>5101 South Willow Springs Road</td>\n",
       "      <td>LaGrange</td>\n",
       "      <td>Cook</td>\n",
       "      <td>60525</td>\n",
       "      <td>(708) 245-9000</td>\n",
       "      <td>5967</td>\n",
       "      <td>2018-01-31</td>\n",
       "    </tr>\n",
       "    <tr>\n",
       "      <th>4</th>\n",
       "      <td>Adventist Midwest Health - DBA Adventist Hinsd...</td>\n",
       "      <td>General Hospital</td>\n",
       "      <td>120 North Oak Street</td>\n",
       "      <td>Hinsdale</td>\n",
       "      <td>Du Page</td>\n",
       "      <td>60521</td>\n",
       "      <td>(630) 856-9000</td>\n",
       "      <td>976</td>\n",
       "      <td>2017-12-31</td>\n",
       "    </tr>\n",
       "  </tbody>\n",
       "</table>\n",
       "</div>"
      ],
      "text/plain": [
       "                                       Hospital Name  \\\n",
       "0                           Abraham Lincoln Hospital   \n",
       "1                     Adventist Bolingbrook Hospital   \n",
       "2                        Adventist GlenOaks Hospital   \n",
       "3  Adventist Midwest Health - DBA Adventist LaGra...   \n",
       "4  Adventist Midwest Health - DBA Adventist Hinsd...   \n",
       "\n",
       "           Type of Hospital                         Address              City  \\\n",
       "0  Critical Access Hospital             200 Stahllhut Drive           Lincoln   \n",
       "1          General Hospital         500 Remington Boulevard       Bolingbrook   \n",
       "2          General Hospital             701 Winthrop Avenue  Glendale Heights   \n",
       "3          General Hospital  5101 South Willow Springs Road          LaGrange   \n",
       "4          General Hospital            120 North Oak Street          Hinsdale   \n",
       "\n",
       "    County    Zip           Phone License # License Expiration Date  \n",
       "0    Logan  62656  (217) 732-2161      5728              2017-06-30  \n",
       "1     Will  60440  (630) 312-5000      5496              2018-01-10  \n",
       "2  Du Page  60139  (630) 545-8000      3814              2017-06-30  \n",
       "3     Cook  60525  (708) 245-9000      5967              2018-01-31  \n",
       "4  Du Page  60521  (630) 856-9000       976              2017-12-31  "
      ]
     },
     "metadata": {},
     "output_type": "display_data"
    }
   ],
   "source": [
    "xlsx_file_path = os.path.join(data_dir,xlsx_file_name)\n",
    "#display(xlsx_file_path)\n",
    "xlsx_df = pd.read_excel(xlsx_file_path,sheet='IDPH_Hospital_Directory')\n",
    "display(xlsx_df[:5])"
   ]
  },
  {
   "cell_type": "markdown",
   "metadata": {},
   "source": [
    "### Qgrid to display data frame as slick table with Sort and Filter"
   ]
  },
  {
   "cell_type": "code",
   "execution_count": 7,
   "metadata": {
    "collapsed": false
   },
   "outputs": [],
   "source": [
    "import qgrid\n",
    "qgrid.nbinstall()\n",
    "qgrid.show_grid(json_df[:10], remote_js=True,grid_options={'fullWidthRows': True,'forceFitColumns': True,'enableColumnReorder': True})"
   ]
  },
  {
   "cell_type": "code",
   "execution_count": null,
   "metadata": {
    "collapsed": true
   },
   "outputs": [],
   "source": []
  }
 ],
 "metadata": {
  "kernelspec": {
   "display_name": "Python 2",
   "language": "python",
   "name": "python2"
  },
  "language_info": {
   "codemirror_mode": {
    "name": "ipython",
    "version": 2
   },
   "file_extension": ".py",
   "mimetype": "text/x-python",
   "name": "python",
   "nbconvert_exporter": "python",
   "pygments_lexer": "ipython2",
   "version": "2.7.11"
  }
 },
 "nbformat": 4,
 "nbformat_minor": 0
}
